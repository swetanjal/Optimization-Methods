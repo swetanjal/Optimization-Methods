{
  "nbformat": 4,
  "nbformat_minor": 0,
  "metadata": {
    "colab": {
      "name": "Assignment 2",
      "provenance": [],
      "collapsed_sections": [],
      "toc_visible": true
    },
    "kernelspec": {
      "name": "python3",
      "display_name": "Python 3"
    }
  },
  "cells": [
    {
      "cell_type": "markdown",
      "metadata": {
        "id": "y6unjJywRUwV",
        "colab_type": "text"
      },
      "source": [
        "# Assignment-2: Manifold Learning\n",
        "\n",
        "The objective of this assignment is to apply the concepts you have learned in class on Manifold Learning and Spectral Clustering. \n",
        "\n",
        "## Instructions\n",
        "  - For each question you need to write the sub-problem formulation in markdown. \n",
        "  - Ensure that this notebook runs without errors when the cells are run in sequence.\n",
        "  - Plagiarism will not be tolerated.\n",
        "  - Use only `python3` to run your code.\n",
        "  - If you are facing issues running the notebook on your local system. Use google collab to run the notebook online. To run the notebook online, go to [google collab](!https://colab.research.google.com/notebooks/intro.ipynb). Go to `File  -> Upload Notebook` and import the notebook file.\n",
        "\n",
        "__NOTE__: If you use online platforms, you will have to upload `swissroll.dat` file separately and change the path in the code cell which loads the data.\n",
        "\n",
        "## Submission  \n",
        "- Rename the notebook to `<roll_number>.ipynb` and submit **ONLY** the notebook file on moodle.\n",
        "\n",
        "## Problems \n",
        " - Question 1: Spectral Clustering (10 marks)\n",
        " - Question 2: Manifold Visualization (10 marks)\n",
        " - Question 3: Clustering and Visualizing high-dimensional data (10 marks)\n",
        " - Question 4: Classification (10 marks)\n",
        "\n",
        "## Deadline \n",
        "The deadline of this assignment is 27th April, 2020, 11:59 PM"
      ]
    },
    {
      "cell_type": "code",
      "metadata": {
        "id": "_3dyamhDXwS1",
        "colab_type": "code",
        "colab": {}
      },
      "source": [
        "import sys\n",
        "# Install packages correctly\n",
        "!{sys.executable} -m pip install numpy sklearn tensorflow keras\n",
        "# Fix mpl version due to subtle API differences\n",
        "!{sys.executable} -m pip install matplotlib==3.0.3\n",
        "\n",
        "import numpy\n",
        "# Allow usage of both `np` and `numpy`\n",
        "np = numpy\n",
        "import sklearn\n",
        "import matplotlib"
      ],
      "execution_count": 0,
      "outputs": []
    },
    {
      "cell_type": "markdown",
      "metadata": {
        "id": "6pUMAoPIWjRo",
        "colab_type": "text"
      },
      "source": [
        "# Question 1: Spectral Clustering\n",
        "\n",
        "Implement spectral clustering and evaluate on the given concentric circles dataset for this question."
      ]
    },
    {
      "cell_type": "markdown",
      "metadata": {
        "id": "Hn0_iOUFy_w9",
        "colab_type": "text"
      },
      "source": [
        "## Part 1: Implementation\n",
        "Implement spectral clustering function from scratch (for two clusters), taking as input the dataset. It must return the predicted clustering. Assume that the graph constructed is a fully connected graph. Use the normalized graph laplacian for this case.\n",
        "\n"
      ]
    },
    {
      "cell_type": "code",
      "metadata": {
        "id": "VYajkeo9BVu5",
        "colab_type": "code",
        "colab": {}
      },
      "source": [
        "# Part 1: Spectral Clustering\n",
        "\n",
        "def spectral_clustering(X):\n",
        "  \"\"\"Args:\n",
        "    X: numpy.array [num_samples, input_dim]\n",
        "    \n",
        "    Returns:\n",
        "    Y_pred: numpy.array [num_samples]\n",
        "      array of cluster labels\n",
        "  \"\"\"\n",
        "  # Your code here\n",
        "  return Y_pred\n"
      ],
      "execution_count": 0,
      "outputs": []
    },
    {
      "cell_type": "markdown",
      "metadata": {
        "id": "D2txlZ8iyA1u",
        "colab_type": "text"
      },
      "source": [
        "## Part 2: Clustering concentric circles\n",
        "Perform spectral clustering on the concentric circles dataset. Visualize the result by plotting it on a 2-d graph. Use different colours for different clusters."
      ]
    },
    {
      "cell_type": "code",
      "metadata": {
        "id": "EQJkpUzj1vSY",
        "colab_type": "code",
        "colab": {}
      },
      "source": [
        "# DO NOT EDIT\n",
        "\n",
        "from sklearn.datasets import make_circles \n",
        "\n",
        "CX, CY = make_circles(n_samples=200, shuffle=True,noise=0.05, random_state=1337, factor=0.5)\n",
        "# CX: input data points [n_samples, 2]\n",
        "# CY: true clusters [n_samples]"
      ],
      "execution_count": 0,
      "outputs": []
    },
    {
      "cell_type": "code",
      "metadata": {
        "id": "3PKZWv1GAtKd",
        "colab_type": "code",
        "colab": {}
      },
      "source": [
        "# Part 2: Perform Spectral Clustering on the concentric circles dataset\n",
        "# Plot using colors from CY (true clusters) and CY_pred (predicted clusters)\n",
        "# Code in this cell should plot 2 subplots (true labels and predicted labels)\n"
      ],
      "execution_count": 0,
      "outputs": []
    },
    {
      "cell_type": "markdown",
      "metadata": {
        "id": "Y3Cy2CylyBpg",
        "colab_type": "text"
      },
      "source": [
        "## Part 3: Evaluate accuracy\n",
        "Evaluate the accuracy of the clustering by comparing it with the true labels. Create two subplots (true vs predicted) with the color of each point showing the cluster label."
      ]
    },
    {
      "cell_type": "code",
      "metadata": {
        "id": "-6GkKuI0BRrz",
        "colab_type": "code",
        "colab": {}
      },
      "source": [
        "# Part 3: Report the accuracy of clustering\n"
      ],
      "execution_count": 0,
      "outputs": []
    },
    {
      "cell_type": "markdown",
      "metadata": {
        "id": "9rzTpNVdz4gh",
        "colab_type": "text"
      },
      "source": [
        "\n",
        "\n",
        "---\n",
        "\n"
      ]
    },
    {
      "cell_type": "markdown",
      "metadata": {
        "id": "ET2wS62DY8q4",
        "colab_type": "text"
      },
      "source": [
        "# Question 2: Manifold Visualization\n",
        "Implement the various manifold learning methods and visualize the given datasets.\n"
      ]
    },
    {
      "cell_type": "markdown",
      "metadata": {
        "id": "TlLNBbeL0Udf",
        "colab_type": "text"
      },
      "source": [
        "## Part 1: MDS\n",
        "Implement Multi-Dimensional Scaling"
      ]
    },
    {
      "cell_type": "code",
      "metadata": {
        "id": "1yYCJ3CPCJi_",
        "colab_type": "code",
        "colab": {}
      },
      "source": [
        "# Part 1: MDS\n",
        "\n",
        "def MDS(X, k, output_dim=2):\n",
        "  \"\"\"Args:\n",
        "    X: numpy.array [n_samples, input_dim]\n",
        "    k: number of nearest neighbours to construct the knn graph\n",
        "    output_dim: dimension of output data\n",
        "\n",
        "    Returns:\n",
        "    Y: numpy.array [n_samples, output_dim]\n",
        "  \"\"\"\n",
        "  # Your code here\n",
        "  return Y"
      ],
      "execution_count": 0,
      "outputs": []
    },
    {
      "cell_type": "markdown",
      "metadata": {
        "id": "GqAs0Fv4xKJm",
        "colab_type": "text"
      },
      "source": [
        "## Part 2: LLE\n",
        "Implement Locally Linear Embedding function"
      ]
    },
    {
      "cell_type": "code",
      "metadata": {
        "id": "7XJTWUKUCKDK",
        "colab_type": "code",
        "colab": {}
      },
      "source": [
        "# Part 2: LLE\n",
        "\n",
        "def LLE(X, k, output_dim=2):\n",
        "  \"\"\"Args:\n",
        "    X: numpy.array [n_samples, input_dim]\n",
        "    k: number of nearest neighbours to construct the knn graph\n",
        "    output_dim: dimension of output data\n",
        "\n",
        "    Returns:\n",
        "    Y: numpy.array [n_samples, output_dim]\n",
        "  \"\"\"\n",
        "  # Your code here\n",
        "  return Y"
      ],
      "execution_count": 0,
      "outputs": []
    },
    {
      "cell_type": "markdown",
      "metadata": {
        "id": "9DbKZQJUxb6D",
        "colab_type": "text"
      },
      "source": [
        "## Part 3: ISOMAP\n",
        "Implement Isomap Visualization  "
      ]
    },
    {
      "cell_type": "code",
      "metadata": {
        "id": "lfHexz4FCKSD",
        "colab_type": "code",
        "colab": {}
      },
      "source": [
        "# Part 3: Isomap\n",
        "\n",
        "def ISOMAP(X, k, output_dim=2):\n",
        "  \"\"\"Args:\n",
        "    X: numpy.array [n_samples, input_dim]\n",
        "    k: number of nearest neighbours to construct the knn graph\n",
        "    output_dim: dimension of output data\n",
        "\n",
        "    Returns:\n",
        "    Y: numpy.array [n_samples, output_dim]\n",
        "  \"\"\"\n",
        "  # Your code here\n",
        "  return Y"
      ],
      "execution_count": 0,
      "outputs": []
    },
    {
      "cell_type": "markdown",
      "metadata": {
        "id": "HpqHCxJoxg1q",
        "colab_type": "text"
      },
      "source": [
        "## Part 3: Manifold Visualization\n",
        "Visualize the S-shaped 3-d dataset using the MDS, ISOMAP, LLE"
      ]
    },
    {
      "cell_type": "code",
      "metadata": {
        "id": "i-vs3a9mCKri",
        "colab_type": "code",
        "colab": {}
      },
      "source": [
        "# DO NOT EDIT\n",
        "\n",
        "from sklearn import manifold, datasets\n",
        "\n",
        "SX, St = datasets.make_s_curve(n_samples=1000, random_state=1337)\n",
        "# SX: input data [n_samples, 3]\n",
        "# St: univariate position along manifold [n_samples], use for coloring the plots"
      ],
      "execution_count": 0,
      "outputs": []
    },
    {
      "cell_type": "markdown",
      "metadata": {
        "id": "bLfG6fon3Ng8",
        "colab_type": "text"
      },
      "source": [
        "The code in the next cell should draw a single plot with the following subplots:\n",
        "1. 3D S-shaped dataset\n",
        "2. 2D Manifold learnt using MDS\n",
        "3. 2D Manifold learnt using ISOMAP\n",
        "4. 2D Manifold learnt using LLE\n",
        "\n",
        "Use the `St` variable to color the points in your visualizations. Use a color spectrum, and the position along the manifold to assign the color."
      ]
    },
    {
      "cell_type": "code",
      "metadata": {
        "id": "Syy5E92H3rQt",
        "colab_type": "code",
        "colab": {}
      },
      "source": [
        "#  Visualization code here"
      ],
      "execution_count": 0,
      "outputs": []
    },
    {
      "cell_type": "markdown",
      "metadata": {
        "id": "0_6qKBLLBp3y",
        "colab_type": "text"
      },
      "source": [
        "\n",
        "# Question 3: Clustering and Visualizing high-dimensional data\n",
        "Perform k-means and spectral clustering on the Swiss roll dataset and visualize using the above 3 methods. State your observations."
      ]
    },
    {
      "cell_type": "code",
      "metadata": {
        "id": "urWObhY9XT1i",
        "colab_type": "code",
        "outputId": "71469e60-f7c5-4840-ce91-5a6dc13209e6",
        "colab": {
          "base_uri": "https://localhost:8080/",
          "height": 35
        }
      },
      "source": [
        "# Swiss roll dataset loading here\n",
        "d = []\n",
        "with open('./swissroll.dat', 'r') as dat_file:\n",
        "    for line in dat_file:\n",
        "        line = line.strip().split()\n",
        "        line = [float(x.strip()) for x in line]\n",
        "        d.append(line)\n",
        "swissroll = numpy.array(d)\n",
        "print (swissroll.shape)"
      ],
      "execution_count": 0,
      "outputs": [
        {
          "output_type": "stream",
          "text": [
            "(1600, 3)\n"
          ],
          "name": "stdout"
        }
      ]
    },
    {
      "cell_type": "markdown",
      "metadata": {
        "id": "OYXwW4hK36Uq",
        "colab_type": "text"
      },
      "source": [
        "Procedure for this question:\n",
        "1. Perform spectral clustering (2 clusters) on the unchanged Swiss roll and visualize (binary colors)\n",
        "2. Unwrap the manifold in 2D and visualize using\n",
        "  - MDS\n",
        "  - ISOMAP\n",
        "  - LLE\n",
        "\n",
        "Use the labels from the spectral clustering to color the unwrapped manifolds."
      ]
    },
    {
      "cell_type": "code",
      "metadata": {
        "id": "IGNWHRBm6UqA",
        "colab_type": "code",
        "colab": {}
      },
      "source": [
        "# CODE HERE"
      ],
      "execution_count": 0,
      "outputs": []
    },
    {
      "cell_type": "markdown",
      "metadata": {
        "id": "Htk5iQVF5y0m",
        "colab_type": "text"
      },
      "source": [
        "\n",
        "\n",
        "---\n",
        "\n"
      ]
    },
    {
      "cell_type": "markdown",
      "metadata": {
        "id": "N_zlw_qEdMor",
        "colab_type": "text"
      },
      "source": [
        "# Question 4: Classification"
      ]
    },
    {
      "cell_type": "markdown",
      "metadata": {
        "id": "x_U7mXf-dsSr",
        "colab_type": "text"
      },
      "source": [
        "Perform classification using a machine learning algorithm of your choice. Use 6k images from CIFAR-10 dataset.(5k images for training and 1k images for testing.)\n",
        "\n",
        "\n",
        "*   Do dimensionality reduction on the dataset using PCA and ISOMAP.\n",
        "*   Apply the classification algorithm.\n",
        "*   Compare the results by changing the dimensionality of the data.\n",
        "*   Use F1-score as metric.\n",
        "*   Approach: Reduce the dimensionality into any two dimensions(of your choice) which are less than the initial dimensionality of the data using PCA and ISOMAP. Compare the performance metrics(F1-score) for the low dimensional data.\n",
        "\n"
      ]
    },
    {
      "cell_type": "code",
      "metadata": {
        "id": "fisyOiUim4KQ",
        "colab_type": "code",
        "colab": {}
      },
      "source": [
        "# Code for loading CIFAR-10 dataset.\n",
        "from keras.datasets import cifar10\n",
        "(X_train, y_train), (X_test, y_test) = cifar10.load_data()\n",
        "X_train = X_train[:5000].reshape([5000,32*32*3])\n",
        "y_train = y_train[:5000]\n",
        "X_test = X_test[:1000].reshape([1000,32*32*3])\n",
        "y_test = y_test[:1000]\n",
        "# Initial dimensionality/number of features (32*32*3) = 3072."
      ],
      "execution_count": 0,
      "outputs": []
    },
    {
      "cell_type": "code",
      "metadata": {
        "id": "bncBE604dreD",
        "colab_type": "code",
        "colab": {}
      },
      "source": [
        "def reductionUsingPCA(X, k, output_dim):\n",
        "  \"\"\"Args:\n",
        "    X: numpy.array [n_samples, input_dim]\n",
        "    k: number of nearest neighbours to construct the knn graph\n",
        "    output_dim: dimension of output data\n",
        "\n",
        "    Returns:\n",
        "    pca_X: numpy.array [n_samples, output_dim]\n",
        "  \"\"\"\n",
        "  # Enter your code here\n",
        "  return pca_X"
      ],
      "execution_count": 0,
      "outputs": []
    },
    {
      "cell_type": "code",
      "metadata": {
        "id": "DfzjqHhhXn1Z",
        "colab_type": "code",
        "colab": {}
      },
      "source": [
        "def reductionUsingISOMAP(X, k, output_dim):\n",
        "  \"\"\"Args:\n",
        "    X: numpy.array [n_samples, input_dim]\n",
        "    k: number of nearest neighbours to construct the knn graph\n",
        "    output_dim: dimension of output data\n",
        "\n",
        "    Returns:\n",
        "    isomap_X: numpy.array [n_samples, output_dim]\n",
        "  \"\"\"\n",
        "  # Enter your code here\n",
        "  return isomap_X"
      ],
      "execution_count": 0,
      "outputs": []
    },
    {
      "cell_type": "code",
      "metadata": {
        "id": "jFmq8lOIm8p0",
        "colab_type": "code",
        "colab": {}
      },
      "source": [
        "# Classification Algorithm \n",
        "# Extra functions here\n",
        "\n",
        "def classification(X, n_classes):\n",
        "  \"\"\"Args:\n",
        "    X: numpy.array [n_samples, input_dim]\n",
        "    n_classes: number of classes\n",
        "\n",
        "    Returns:\n",
        "    labels: numpy_array [n_samples]\n",
        "  \"\"\"\n",
        "  # Your code here\n",
        "  return labels\n"
      ],
      "execution_count": 0,
      "outputs": []
    },
    {
      "cell_type": "code",
      "metadata": {
        "id": "dPB5KCGJnZx_",
        "colab_type": "code",
        "colab": {}
      },
      "source": [
        "def F1_score(y_true, y_pred):\n",
        "  \"\"\"Args:\n",
        "    y_true: numpy.array [n_samples] , ground truth value\n",
        "    y_pred: numpy.array [n_samples] , predicted value by classifier\n",
        "    \n",
        "    Returns:\n",
        "    score: float, f1-score\n",
        "  \"\"\"\n",
        "  # Enter your code here\n",
        "  return score"
      ],
      "execution_count": 0,
      "outputs": []
    },
    {
      "cell_type": "code",
      "metadata": {
        "id": "erTYJiPGpCwO",
        "colab_type": "code",
        "colab": {}
      },
      "source": [
        ""
      ],
      "execution_count": 0,
      "outputs": []
    }
  ]
}